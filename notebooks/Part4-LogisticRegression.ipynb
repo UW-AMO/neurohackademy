{
 "cells": [
  {
   "cell_type": "code",
   "execution_count": 1,
   "metadata": {},
   "outputs": [],
   "source": [
    "import sys\n",
    "\n",
    "import numpy as np\n",
    "import matplotlib.pyplot as plt\n",
    "\n",
    "sys.path.append('../src')\n",
    "import utils"
   ]
  },
  {
   "cell_type": "markdown",
   "metadata": {},
   "source": [
    "# Machine Learning Models\n",
    "\n",
    "Many problems in machine learing seek to build a model\n",
    "\n",
    "$$g(a; x) \\approx y$$\n",
    "\n",
    "given a data set\n",
    "\n",
    "$$\\{(a_1, y_1), \\dots, (a_m, y_m)\\},$$\n",
    "\n",
    "with components\n",
    "* $a_i \\in \\mathbf{R}^n$ - data features,\n",
    "* $y_i \\in \\mathbf{R}$ or $\\{0, 1\\}$ - data value or class,\n",
    "* $g: \\mathbf{R}^n \\to \\mathbf{R}$ or $\\{0, 1\\}$ - prediction function,\n",
    "* $x \\in \\mathbf{R}^n$ - model parameters,\n",
    "* $m$ - number of data points, and\n",
    "* $n$ - number of data features.\n",
    "\n",
    "We can fit a model to the given data by solving an optimization problem of the form\n",
    "\n",
    "$$\\min_x \\sum_{i=1}^m f_i(g(a_i; x), y_i) + r(x)$$\n",
    "\n",
    "with components\n",
    "* $x \\in \\mathbf{R}^n$ - model parameters,\n",
    "* $f_i: \\mathbf{R}^n \\to \\mathbf{R}$ - functions that measure how well the model fits the data for a given set of parameters, and\n",
    "* $r(x): \\mathbf{R}^n \\to \\mathbf{R}$ - regularization function."
   ]
  },
  {
   "cell_type": "markdown",
   "metadata": {},
   "source": [
    "# Logistic Regression\n",
    "\n",
    "In the logistic regression problem, we would like to find a linear predictor\n",
    "\n",
    "$$g(a_i; x) = x_1 a_{i1} + \\dots + x_n a_{in} = a_i^Tx \\approx \\begin{cases} \\text{positive} & \\Rightarrow \\quad y_i = 1, \\\\ \\text{negative} & \\Rightarrow \\quad y_i = 0, \\end{cases}$$\n",
    "\n",
    "where $a_i$ are continuous data features and $y_i \\in \\{0, 1\\}$ are discrete class labels.\n",
    "One approach for deriving the [loss functions](https://en.wikipedia.org/wiki/Loss_function) $f_i$ is to combine the [Bernoulli model](https://en.wikipedia.org/wiki/Bernoulli_distribution) with a linear predictor, and then develop a [maximum likelihood](https://en.wikipedia.org/wiki/Maximum_likelihood_estimation) formulation.\n",
    "Let $p_i$ be the probability that observation $i$ belongs to class 1.\n",
    "We begin by writing the probability mass function for an observation $(a_i, y_i)$ given model parameters $x$ in standard form:\n",
    "\n",
    "\\begin{align}\n",
    "p((a_i, y_i); x) &= p_i^{y_i} (1 - p_i)^{1 - y_i} \\\\\n",
    "&= \\exp\\big( y_i \\log(p_i) + (1 - y_i) \\log(1 - p_i) \\big) \\\\\n",
    "&= \\exp\\left( y_i \\log\\left(\\frac{p_i}{1 - p_i}\\right) + \\log(1 - p_i) \\right)\n",
    "\\end{align}\n",
    "\n",
    "Next, we assume that the term multiplied by $y_i$, the [log-odds](https://en.wikipedia.org/wiki/Logit) of observation $i$ belonging to class 1, can be approximated with our linear predictor:\n",
    "\n",
    "$$\\log\\left(\\frac{p_i}{1 - p_i}\\right) \\approx a_i^Tx$$\n",
    "\n",
    "Substituting this into our probability above, the PMF of all $m$ i.i.d. observations is\n",
    "\n",
    "\\begin{align}\n",
    "p\\big(\\{(a_1, y_1), \\dots, (a_m, y_m)\\}; x\\big) &= \\prod_{i=1}^m p((a_i, y_i); x) \\\\\n",
    "&= \\prod_{i=1}^m \\exp\\big(y_i a_i^Tx - \\log\\left(1 + \\exp(a_i^Tx)\\right) \\big) \\\\\n",
    "&= \\exp\\left(\\sum_{i=1}^n y_i a_i^Tx - \\log\\left( 1 + \\exp(a_i^Tx) \\right) \\right).\n",
    "\\end{align}\n",
    "\n",
    "Alternatively, we can consider the likelihood of a set of model parameters given our $m$ observations,\n",
    "\n",
    "$$\\mathcal{L}\\big(x; \\{(a_1, y_1), \\dots, (a_m, y_m) \\} \\big) = p\\big(\\{(a_1, y_1), \\dots, (a_m, y_m)\\}; x\\big),$$\n",
    "\n",
    "so that we can solve an optimization problem to find the parameters with the maximum likelihood.\n",
    "In practice, this is often done by minimizing the negative log-likelihood, which results in our logistic regression problem\n",
    "\n",
    "$$\\min_x \\sum_{i=1}^m \\log\\big( 1 + \\exp(a_i^Tx) \\big) - y_i a_i^T x.$$\n",
    "\n",
    "After solving for the model parameters, we can predict the class labels of new data using the sign of the linear predictor,\n",
    "\n",
    "$$g(a_i; x) = \\begin{cases} 1 & \\text{if} \\quad a_i^Tx \\geq 0, \\\\ 0 & \\text{if} \\quad a_i^T < 0, \\end{cases}$$\n",
    "\n",
    "or we can approximate the probability of an observation belonging to class 1,\n",
    "\n",
    "$$P(y_i = 1 | a_i, x) = \\frac{\\exp(a_i^Tx)}{1 + \\exp(a_i^Tx)} = \\frac{1}{1 + \\exp(-a_i^Tx)},$$\n",
    "\n",
    "where the [logistic model](https://en.wikipedia.org/wiki/Logistic_function) follows from our linear approximation of the log-odds."
   ]
  },
  {
   "cell_type": "code",
   "execution_count": 55,
   "metadata": {},
   "outputs": [
    {
     "data": {
      "image/png": "[encoded data removed]",
      "text/plain": [
       "<Figure size 1080x360 with 2 Axes>"
      ]
     },
     "metadata": {
      "needs_background": "light"
     },
     "output_type": "display_data"
    }
   ],
   "source": [
    "# Generate data\n",
    "n = 50\n",
    "x = np.array([-10, 2])\n",
    "a = np.linspace(0, 10, n)\n",
    "p = lambda a: 1/(1 + np.exp(-(x[0] + x[1]*a)))\n",
    "y = np.array([0 if p(ii) + 0.5*np.random.randn() < 0.5 else 1 for ii in a])\n",
    "a0 = a[y == 0]\n",
    "a1 = a[y == 1]\n",
    "\n",
    "# Plot log-odds\n",
    "fig, ax = plt.subplots(1, 2, figsize=(15, 5))\n",
    "ax[0].plot(a0, x[0] + x[1]*a0, '.')\n",
    "ax[0].plot(a1, x[0] + x[1]*a1, '.')\n",
    "ax[0].plot([0, 10], [0, 0], 'k--')\n",
    "ax[0].set_xlabel('Data Features ($a_i$)')\n",
    "ax[0].set_ylabel('Log-Odds for $y_i=1$')\n",
    "ax[0].legend(['$y_i = 0$', '$y_i = 1$'])\n",
    "\n",
    "# Plot probability\n",
    "ax[1].plot(a, y, '.')\n",
    "ax[1].plot(a, p(a))\n",
    "ax[1].set_xlabel('Data Features ($a_i$)')\n",
    "ax[1].set_ylabel('$P(y_i=1)$')\n",
    "ax[1].legend(['Class Label ($y_i$)'])\n",
    "plt.show()"
   ]
  },
  {
   "cell_type": "code",
   "execution_count": null,
   "metadata": {},
   "outputs": [],
   "source": []
  },
  {
   "cell_type": "code",
   "execution_count": null,
   "metadata": {},
   "outputs": [],
   "source": []
  },
  {
   "cell_type": "code",
   "execution_count": null,
   "metadata": {},
   "outputs": [],
   "source": []
  },
  {
   "cell_type": "code",
   "execution_count": null,
   "metadata": {},
   "outputs": [],
   "source": []
  },
  {
   "cell_type": "code",
   "execution_count": null,
   "metadata": {},
   "outputs": [],
   "source": []
  },
  {
   "cell_type": "code",
   "execution_count": null,
   "metadata": {},
   "outputs": [],
   "source": []
  }
 ],
 "metadata": {
  "kernelspec": {
   "display_name": "Python 3",
   "language": "python",
   "name": "python3"
  },
  "language_info": {
   "codemirror_mode": {
    "name": "ipython",
    "version": 3
   },
   "file_extension": ".py",
   "mimetype": "text/x-python",
   "name": "python",
   "nbconvert_exporter": "python",
   "pygments_lexer": "ipython3",
   "version": "3.8.3"
  }
 },
 "nbformat": 4,
 "nbformat_minor": 4
}
