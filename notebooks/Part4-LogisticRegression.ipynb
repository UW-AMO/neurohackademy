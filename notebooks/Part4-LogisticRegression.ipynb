{
 "cells": [
  {
   "cell_type": "markdown",
   "metadata": {},
   "source": [
    "Moved over content from Peng's tutorials, need to condense."
   ]
  },
  {
   "cell_type": "markdown",
   "metadata": {},
   "source": [
    "# Workshop: Optimization\n",
    "**Part I**\n",
    "\n",
    "In this coding exercise, we try to program up\n",
    "\n",
    "* Gradient Descent\n",
    "\n",
    "algorithms use logistic regression as an example.\n",
    "\n",
    "---"
   ]
  },
  {
   "cell_type": "code",
   "execution_count": 1,
   "metadata": {},
   "outputs": [],
   "source": [
    "# import necessary packages\n",
    "import numpy as np\n",
    "import matplotlib.pyplot as plt"
   ]
  },
  {
   "cell_type": "markdown",
   "metadata": {},
   "source": [
    "## Logistic Regression\n",
    "\n",
    "Logistic regression is one of the most fundamental method in machine learning.\n",
    "Consider data set $\\{a_i, y_i\\}_{i=1}^m$, where $a_i \\in \\mathbb{R}^n$ is the data point and\n",
    "$y_i \\in \\{0, 1\\}$ is the corresponding label.\n",
    "\n",
    "Our goal is to train a classifer $x \\in \\mathbb{R}^n$, such that the sign of $\\langle a_i,x \\rangle$ will indicate which class of $a_i$ belongs to, 0 or 1.\n",
    "In order to do that following optimization problem are often considered,\n",
    "$$\n",
    "\\min_x ~~\\sum_{i=1}^m [\\ln(1 + \\exp(\\langle a_i, x \\rangle)) - y_i\\langle a_i, x \\rangle].\n",
    "$$\n",
    "And we will consider different variations of it though the workshop.\n",
    "For more details of the derivation of the objective please check the lecture notes.\n",
    "\n",
    "**Data Set**: We use MNIST 0 and 1 digits as the example data set, for more details please check [MNIST](http://yann.lecun.com/exdb/mnist/)."
   ]
  },
  {
   "cell_type": "code",
   "execution_count": 2,
   "metadata": {},
   "outputs": [
    {
     "name": "stdout",
     "output_type": "stream",
     "text": [
      "number of training images: 1000\n",
      "number of testing images: 200\n"
     ]
    }
   ],
   "source": [
    "# load data\n",
    "train_images = np.load('../data/train_images.npy')\n",
    "train_labels = np.load('../data/train_labels.npy')\n",
    "test_images = np.load('../data/test_images.npy')\n",
    "test_labels = np.load('../data/test_labels.npy')\n",
    "\n",
    "num_train_images = train_labels.size\n",
    "num_test_images = test_labels.size\n",
    "image_size = 28*28\n",
    "\n",
    "print('number of training images: %i' % num_train_images)\n",
    "print('number of testing images: %i' % num_test_images)"
   ]
  },
  {
   "cell_type": "code",
   "execution_count": 3,
   "metadata": {},
   "outputs": [
    {
     "data": {
      "text/plain": [
       "<matplotlib.image.AxesImage at 0x10f663490>"
      ]
     },
     "execution_count": 3,
     "metadata": {},
     "output_type": "execute_result"
    },
    {
     "data": {
      "image/png": "[encoded data removed]",
      "text/plain": [
       "<Figure size 432x288 with 1 Axes>"
      ]
     },
     "metadata": {
      "needs_background": "light"
     },
     "output_type": "display_data"
    }
   ],
   "source": [
    "plt.imshow(train_images[2].reshape(28, 28))"
   ]
  },
  {
   "cell_type": "markdown",
   "metadata": {},
   "source": [
    "## Gradient Descent\n",
    "\n",
    "Recall that if we consider a $\\beta$-smooth objective $f$, and want to solve the optimizatoin problem,\n",
    "$$\n",
    "\\min_{x}~~f(x)\n",
    "$$\n",
    "the gradient descend algorithm can be specify as,\n",
    "\n",
    "* input: $x_0$\n",
    "* set $k = 0$\n",
    "* while $\\|\\nabla f(x_k)\\| \\ge $ tolerance\n",
    "\\begin{align*}\n",
    "x_{k+1} &\\leftarrow x_k - \\frac{1}{\\beta} \\nabla f(x_k)\\\\\n",
    "k &\\leftarrow k + 1\n",
    "\\end{align*}\n",
    "end\n",
    "* output: $x_k$ \n",
    "\n",
    "Now let us consider the algorithm in the context of logistic regression, where,\n",
    "$$\n",
    "f(x) = \\sum_{i=1}^m [\\ln(1 + \\exp(\\langle a_i, x \\rangle)) - y_i\\langle a_i, x \\rangle] + \\frac{\\lambda}{2} \\|x\\|^2.\n",
    "$$\n",
    "\n",
    "Moreover,\n",
    "$$\n",
    "\\nabla f(x) = \\sum_{i=1}^m \\frac{\\exp(\\langle a_i, x \\rangle)}{1 + \\exp(\\langle a_i, x \\rangle)} a_i - y_i a_i + \\lambda x, \\quad\n",
    "\\nabla^2 f(x) = \\sum_{i=1}^m \\frac{\\exp(\\langle a_i, x \\rangle)}{(1+\\exp(\\langle a_i, x \\rangle))^2} a_i a_i^\\top + \\lambda I.\n",
    "$$\n",
    "\n",
    "And since\n",
    "$$\n",
    "\\frac{z}{(1+z)^2} \\le \\frac{1}{4}, \\quad \\forall z \\ge 0,\n",
    "$$\n",
    "we have,\n",
    "$$\n",
    "\\|\\nabla^2 f(x)\\| \\le \\frac{1}{4}\\|A\\|^2 + \\lambda\n",
    "$$\n",
    "where $A = [a_1, a_2, \\ldots, a_m]$. Therefore we could set our $\\beta = \\frac{1}{4}\\|A\\|^2 + \\lambda$."
   ]
  },
  {
   "cell_type": "code",
   "execution_count": 4,
   "metadata": {},
   "outputs": [],
   "source": [
    "# function, gradient and Lipschitz constant\n",
    "A = train_images\n",
    "y = train_labels\n",
    "lam = 0.1\n",
    "\n",
    "beta = 0.25*np.linalg.norm(A, 2)**2 + lam\n",
    "\n",
    "def func(x):\n",
    "    z = A.dot(x)\n",
    "    return np.sum(np.log(1.0 + np.exp(z)) - y*z) + 0.5*lam*np.sum(x**2)\n",
    "\n",
    "def grad(x):\n",
    "    z = A.dot(x)\n",
    "    return A.T.dot(np.exp(z)/(1.0 + np.exp(z)) - y) + lam*x"
   ]
  },
  {
   "cell_type": "code",
   "execution_count": 5,
   "metadata": {},
   "outputs": [],
   "source": [
    "# gradient descend algorithm\n",
    "def optimizeWithGD(x0, func, grad, beta, tol=1e-6, max_iter=1000):\n",
    "    \"\"\"\n",
    "    Optimize with Gradient Descent\n",
    "        min_x f(x)\n",
    "    where f is beta smooth.\n",
    "\n",
    "    input\n",
    "    -----\n",
    "    x0 : array_like\n",
    "        Starting point for the solver.\n",
    "    func : function\n",
    "        Input x and return the function value.\n",
    "    grad : function\n",
    "        Input x and return the gradient.\n",
    "    beta : float\n",
    "        beta smoothness constant\n",
    "    tol : float, optional\n",
    "        Gradient tolerance for terminating the solver.\n",
    "    max_iter : int, optional\n",
    "        Maximum number of iteration for terminating the solver.\n",
    "        \n",
    "    output\n",
    "    ------\n",
    "    x : array_like\n",
    "        Final solution\n",
    "    obj_his : array_like\n",
    "        Objective function value convergence history\n",
    "    err_his : array_like\n",
    "        Norm of gradient convergence history\n",
    "    exit_flag : int\n",
    "        0, norm of gradient below `tol`\n",
    "        1, exceed maximum number of iteration\n",
    "        2, others\n",
    "    \"\"\"\n",
    "    # initial information\n",
    "    x = np.copy(x0)\n",
    "    g = grad(x)\n",
    "    step_size = 1.0/beta\n",
    "    #\n",
    "    obj = func(x)\n",
    "    err = np.linalg.norm(g)\n",
    "    #\n",
    "    obj_his = np.zeros(max_iter + 1)\n",
    "    err_his = np.zeros(max_iter + 1)\n",
    "    #\n",
    "    obj_his[0] = obj\n",
    "    err_his[0] = err\n",
    "    \n",
    "    # start iterations\n",
    "    iter_count = 0\n",
    "    while err >= tol:\n",
    "        # gradient descent step\n",
    "        x -= step_size*g\n",
    "        #\n",
    "        # update function and gradient\n",
    "        g = grad(x)\n",
    "        #\n",
    "        obj = func(x)\n",
    "        err = np.linalg.norm(g)\n",
    "        #\n",
    "        iter_count += 1\n",
    "        obj_his[iter_count] = obj\n",
    "        err_his[iter_count] = err\n",
    "        #\n",
    "        # check if exceed maximum number of iteration\n",
    "        if iter_count >= max_iter:\n",
    "            print('gradient descent reach maximum number of iteration.')\n",
    "            return x, obj_his[:iter_count+1], err_his[:iter_count+1], 1\n",
    "    #\n",
    "    return x, obj_his[:iter_count+1], err_his[:iter_count+1], 0"
   ]
  },
  {
   "cell_type": "code",
   "execution_count": 6,
   "metadata": {},
   "outputs": [
    {
     "name": "stdout",
     "output_type": "stream",
     "text": [
      "gradient descent reach maximum number of iteration.\n"
     ]
    }
   ],
   "source": [
    "# apply the algorithm\n",
    "x0 = np.zeros(image_size)\n",
    "\n",
    "x, obj_his, err_his, exit_flag = optimizeWithGD(x0, func, grad, beta)"
   ]
  },
  {
   "cell_type": "code",
   "execution_count": 7,
   "metadata": {},
   "outputs": [
    {
     "data": {
      "text/plain": [
       "Text(0.5, 0.98, 'Gradient Descent on Logistic Regression')"
      ]
     },
     "execution_count": 7,
     "metadata": {},
     "output_type": "execute_result"
    },
    {
     "data": {
      "image/png": "[encoded data removed]",
      "text/plain": [
       "<Figure size 864x360 with 2 Axes>"
      ]
     },
     "metadata": {
      "needs_background": "light"
     },
     "output_type": "display_data"
    }
   ],
   "source": [
    "# plot convergence result\n",
    "fig, ax = plt.subplots(1, 2, figsize=(12,5))\n",
    "ax[0].plot(obj_his)\n",
    "ax[0].set_title('function value')\n",
    "ax[1].semilogy(err_his)\n",
    "ax[1].set_title('norm of gradient')\n",
    "fig.suptitle('Gradient Descent on Logistic Regression')"
   ]
  },
  {
   "cell_type": "code",
   "execution_count": 8,
   "metadata": {},
   "outputs": [
    {
     "data": {
      "text/plain": [
       "<matplotlib.image.AxesImage at 0x114246070>"
      ]
     },
     "execution_count": 8,
     "metadata": {},
     "output_type": "execute_result"
    },
    {
     "data": {
      "image/png": "[encoded data removed]",
      "text/plain": [
       "<Figure size 432x288 with 1 Axes>"
      ]
     },
     "metadata": {
      "needs_background": "light"
     },
     "output_type": "display_data"
    }
   ],
   "source": [
    "# plot the identifier\n",
    "plt.imshow(x.reshape(28, 28))"
   ]
  },
  {
   "cell_type": "code",
   "execution_count": 9,
   "metadata": {},
   "outputs": [
    {
     "name": "stdout",
     "output_type": "stream",
     "text": [
      "correctly classify 1.00 of the testing data.\n"
     ]
    }
   ],
   "source": [
    "# test result\n",
    "A_test = test_images\n",
    "y_test = test_labels\n",
    "\n",
    "z_test = A_test.dot(x)\n",
    "\n",
    "rate = np.sum(((z_test < 0.0) & (y_test == 0.0)) | ((z_test > 0.0) & (y_test == 1.0)))/num_test_images\n",
    "\n",
    "print('correctly classify %0.2f of the testing data.' % rate)"
   ]
  },
  {
   "cell_type": "markdown",
   "metadata": {},
   "source": [
    "# Workshop: Optimization\n",
    "**Part III**\n",
    "\n",
    "In this coding exercise, we try to program up\n",
    "\n",
    "* PALM Algorithm for Robust Logistic Regression\n",
    "* SR3 Algorithm for Fast Sparse Logistic Regression\n",
    "\n",
    "algorithms use logistic regression as an example.\n",
    "\n",
    "---"
   ]
  },
  {
   "cell_type": "code",
   "execution_count": 10,
   "metadata": {},
   "outputs": [],
   "source": [
    "# import necessary packages\n",
    "import numpy as np\n",
    "import matplotlib.pyplot as plt\n",
    "from scipy.optimize import bisect"
   ]
  },
  {
   "cell_type": "code",
   "execution_count": 11,
   "metadata": {},
   "outputs": [
    {
     "name": "stdout",
     "output_type": "stream",
     "text": [
      "number of training images: 1000\n",
      "number of testing images: 200\n"
     ]
    }
   ],
   "source": [
    "# load data\n",
    "train_images = np.load('../data/train_images.npy')\n",
    "train_labels = np.load('../data/train_labels.npy')\n",
    "test_images = np.load('../data/test_images.npy')\n",
    "test_labels = np.load('../data/test_labels.npy')\n",
    "\n",
    "num_train_images = train_labels.size\n",
    "num_test_images = test_labels.size\n",
    "image_size = 28*28\n",
    "\n",
    "print('number of training images: %i' % num_train_images)\n",
    "print('number of testing images: %i' % num_test_images)"
   ]
  },
  {
   "cell_type": "markdown",
   "metadata": {},
   "source": [
    "## PALM Algorithm\n",
    "\n",
    "[PALM](https://pdfs.semanticscholar.org/c2a3/59e9408191c9b26dfb7d4fc5389da19e208d.pdf)\n",
    "algorithm is one of the most flexible method that can deal with structural non-smooth non-convex objective.\n",
    "And [Trimming](https://arxiv.org/abs/1610.01101) is a very powerful robustification of any summable objective.\n",
    "In this part, we will see how can we apply PALM to solve trimmed logistic regression.\n",
    "\n",
    "Consider optimization problem,\n",
    "$$\n",
    "\\min_{x, w\\in\\triangle_k}~~f(x,w):=\\sum_{i=1}^m w_i h_i(x) + g(x)\n",
    "$$\n",
    "where,\n",
    "$$\n",
    "h_i(x) = \\ln(1 + \\exp(\\langle a_i, x \\rangle)) - y_i \\langle a_i, x \\rangle, \\quad\n",
    "g(x) = \\lambda \\|x\\|_1,\n",
    "$$\n",
    "and $\\triangle_k$ is the $k$-capped simplex,\n",
    "$$\n",
    "\\triangle_k = \\left\\{w : w\\in [0,1]^m, \\sum_{i=1}^m w_i = k\\right\\}.\n",
    "$$\n",
    "\n",
    "PALM algorithm for this objective can be summarized as follows,\n",
    "\n",
    "* input: $x_0$, $w_0$, $\\tau$\n",
    "* set $k = 0$\n",
    "* while $\\beta\\|x_k - x_{k-1}\\| \\ge $ tolerance\n",
    "\\begin{align*}\n",
    "x_{k+1} &\\leftarrow \\text{prox}_{g/\\beta}(x_k - \\tfrac{1}{\\beta} \\nabla_x f(x_k, w_k))\\\\\n",
    "w_{k+1} &\\leftarrow \\text{proj}_{\\triangle_h}(w_k - \\tau \\nabla_w f(x_{k+1}, w_k))\\\\\n",
    "k &\\leftarrow k + 1\n",
    "\\end{align*}\n",
    "end\n",
    "* output: $x_k$"
   ]
  },
  {
   "cell_type": "code",
   "execution_count": 12,
   "metadata": {},
   "outputs": [],
   "source": [
    "# define functions\n",
    "A = train_images\n",
    "y = train_labels\n",
    "\n",
    "lam = 1.0\n",
    "\n",
    "beta_h = 0.25*np.linalg.norm(A, 2)**2\n",
    "\n",
    "def func_h(x):\n",
    "    z = A.dot(x)\n",
    "    return np.log(1.0 + np.exp(z)) - y*z\n",
    "\n",
    "def grad_h(x, w):\n",
    "    z = A.dot(x)\n",
    "    return (A.T*w).dot(np.exp(z)/(1.0 + np.exp(z)) - y)\n",
    "\n",
    "def func_g(x):\n",
    "    return lam*np.sum(np.abs(x))\n",
    "\n",
    "def prox_g(x, t):\n",
    "    t = lam*t\n",
    "    y = np.zeros(x.size, dtype=x.dtype)\n",
    "\n",
    "    ind = np.where(np.abs(x) > t)\n",
    "    x_o = x[ind]\n",
    "\n",
    "    y[ind] = np.sign(x_o)*(np.abs(x_o) - t)\n",
    "\n",
    "    return y"
   ]
  },
  {
   "cell_type": "code",
   "execution_count": 13,
   "metadata": {},
   "outputs": [],
   "source": [
    "# proximal gradient descent\n",
    "def optimizeWithTrimmingPGD(x0, func_h, func_g, grad_h, prox_g, beta_h, num_inliers, N,\n",
    "                            weight_step_size=1.0, tol=1e-6, max_iter=1000):\n",
    "    \"\"\"\n",
    "    Optimize with Trimming Proximal Gradient Descent Method\n",
    "        min_{x, w} <w, h(x)> + g(x)\n",
    "    where h is beta smooth and g is proxiable.\n",
    "    \n",
    "    input\n",
    "    -----\n",
    "    x0 : array_like\n",
    "        Starting point for the solver\n",
    "    func_h : function\n",
    "        Input x and return the function value of h\n",
    "    func_g : function\n",
    "        Input x and return the function value of g\n",
    "    grad_h : function\n",
    "        Input x and return the gradient of h\n",
    "    prox_g : function\n",
    "        Input x and a constant float number and return the prox solution\n",
    "    beta_h : float\n",
    "        beta smoothness constant for h\n",
    "    num_inliers : int\n",
    "        number of inliers\n",
    "    N : int\n",
    "        total number of data points\n",
    "    weight_step_size : float, optional\n",
    "        step size for the trimming weight\n",
    "    tol : float, optional\n",
    "        Gradient tolerance for terminating the solver.\n",
    "    max_iter : int, optional\n",
    "        Maximum number of iteration for terminating the solver.\n",
    "        \n",
    "    output\n",
    "    ------\n",
    "    x : array_like\n",
    "        Final solution\n",
    "    w : array_like\n",
    "        weights of the data points\n",
    "    obj_his : array_like\n",
    "        Objective function value convergence history\n",
    "    err_his : array_like\n",
    "        Norm of gradient convergence history\n",
    "    exit_flag : int\n",
    "        0, norm of gradient below `tol`\n",
    "        1, exceed maximum number of iteration\n",
    "        2, others\n",
    "    \"\"\"\n",
    "    # initial information\n",
    "    x = x0.copy()\n",
    "    w = np.repeat(num_inliers/N, N)\n",
    "    g = grad_h(x, w)\n",
    "    #\n",
    "    step_size = 1.0/beta_h\n",
    "    # not recording the initial point since we do not have measure of the optimality\n",
    "    obj_his = np.zeros(max_iter)\n",
    "    err_his = np.zeros(max_iter)\n",
    "    \n",
    "    # start iteration\n",
    "    iter_count = 0\n",
    "    err = tol + 1.0\n",
    "    while err >= tol:\n",
    "        # proximal gradient descent step\n",
    "        x_new = prox_g(x - step_size*g, step_size)\n",
    "        w_new = projCappedSimplex(w - weight_step_size*func_h(x_new), num_inliers)\n",
    "        \n",
    "        # update information\n",
    "        obj = w_new.dot(func_h(x_new)) + func_g(x_new)\n",
    "        err = np.linalg.norm(x - x_new)/step_size\n",
    "        #\n",
    "        np.copyto(x, x_new)\n",
    "        np.copyto(w, w_new)\n",
    "        g = grad_h(x, w)\n",
    "        #\n",
    "        obj_his[iter_count] = obj\n",
    "        err_his[iter_count] = err\n",
    "        #\n",
    "        # check if exceed maximum number of iteration\n",
    "        iter_count += 1\n",
    "        if iter_count >= max_iter:\n",
    "            print('Proximal gradient descent with trimming reach maximum of iteration')\n",
    "            return x, w, obj_his[:iter_count], err_his[:iter_count], 1\n",
    "    #\n",
    "    return x, w, obj_his[:iter_count], err_his[:iter_count], 0\n",
    "\n",
    "def projCappedSimplex(w, w_sum):\n",
    "    a = np.min(w) - 1.0\n",
    "    b = np.max(w) - 0.0\n",
    "\n",
    "    def f(x):\n",
    "        return np.sum(np.maximum(np.minimum(w - x, 1.0), 0.0)) - w_sum\n",
    "\n",
    "    x = bisect(f, a, b)\n",
    "\n",
    "    return np.maximum(np.minimum(w - x, 1.0), 0.0)"
   ]
  },
  {
   "cell_type": "code",
   "execution_count": 14,
   "metadata": {},
   "outputs": [
    {
     "name": "stdout",
     "output_type": "stream",
     "text": [
      "Proximal gradient descent with trimming reach maximum of iteration\n"
     ]
    }
   ],
   "source": [
    "# apply the algorithm\n",
    "x0 = np.zeros(image_size)\n",
    "\n",
    "x, w, obj_his, err_his, exit_flag = optimizeWithTrimmingPGD(x0, func_h, func_g, grad_h, prox_g, beta_h,\n",
    "                                                            int(0.95*num_train_images), num_train_images)"
   ]
  },
  {
   "cell_type": "code",
   "execution_count": 15,
   "metadata": {},
   "outputs": [
    {
     "data": {
      "text/plain": [
       "Text(0.5, 0.98, 'Proximal Gradient Descent on Logistic Regression With Trimming')"
      ]
     },
     "execution_count": 15,
     "metadata": {},
     "output_type": "execute_result"
    },
    {
     "data": {
      "image/png": "[encoded data removed]",
      "text/plain": [
       "<Figure size 864x360 with 2 Axes>"
      ]
     },
     "metadata": {
      "needs_background": "light"
     },
     "output_type": "display_data"
    }
   ],
   "source": [
    "# plot convergence result\n",
    "fig, ax = plt.subplots(1, 2, figsize=(12,5))\n",
    "ax[0].plot(obj_his)\n",
    "ax[0].set_title('function value')\n",
    "ax[1].semilogy(err_his)\n",
    "ax[1].set_title('optimality condition')\n",
    "fig.suptitle('Proximal Gradient Descent on Logistic Regression With Trimming')"
   ]
  },
  {
   "cell_type": "code",
   "execution_count": 16,
   "metadata": {},
   "outputs": [
    {
     "data": {
      "text/plain": [
       "<matplotlib.image.AxesImage at 0x1163557c0>"
      ]
     },
     "execution_count": 16,
     "metadata": {},
     "output_type": "execute_result"
    },
    {
     "data": {
      "image/png": "[encoded data removed]",
      "text/plain": [
       "<Figure size 432x288 with 1 Axes>"
      ]
     },
     "metadata": {
      "needs_background": "light"
     },
     "output_type": "display_data"
    }
   ],
   "source": [
    "# plot the identifier\n",
    "plt.imshow(x.reshape(28, 28))"
   ]
  },
  {
   "cell_type": "code",
   "execution_count": 17,
   "metadata": {},
   "outputs": [
    {
     "name": "stdout",
     "output_type": "stream",
     "text": [
      "correctly classify 1.00 of the testing data.\n"
     ]
    }
   ],
   "source": [
    "# test result\n",
    "A_test = test_images\n",
    "y_test = test_labels\n",
    "\n",
    "z_test = A_test.dot(x)\n",
    "\n",
    "rate = np.sum(((z_test < 0.0) & (y_test == 0.0)) | ((z_test > 0.0) & (y_test == 1.0)))/num_test_images\n",
    "\n",
    "print('correctly classify %0.2f of the testing data.' % rate)"
   ]
  },
  {
   "cell_type": "markdown",
   "metadata": {},
   "source": [
    "# Logistic Regression With Trimming\n",
    "\n",
    "In this tutorial, we will play with the robust version of the classic binary classification problem.\n",
    "\n",
    "**Brief summary**. Denote $\\{y_i, a_i\\}$ as our data pair, where $a_i$ is the $i$th image and $y_i$ is the corresponding label. Our goal is to come up with a classifier such that when there is a new image, we could automatically generate the label. When there are only two classes, for example all the $y_i$ are either $-1$ or $1$, we could use *logistic regression* to accomplish this goal. Moreover we will spin in a robust variation to automatically detect anomalies (weird images).\n",
    "\n",
    "**Some math**. Assume $y_i \\in \\{-1, 1\\}$, we could write out our negative log likelihood for trimming logistic regression.\n",
    "$$\n",
    "\\min_{x, w}~~\\frac{1}{m}\\sum_{i=1}^m w_i\\log(1 + \\exp(-y_i \\langle a_i, x \\rangle)) + \\frac{\\lambda}{2}\\|x\\|^2\n",
    "\\quad \\text{s.t.}~~0 \\le w_i \\le 1,~\\sum_{i=1}^m w_i = h\n",
    "$$\n",
    "where $x$ is our classifier and $w$ is the trimming weights.\n",
    "\n",
    "**Examples**. We will go throught two examples in this notebook,\n",
    "* MNIST 0-1 classification\n",
    "* Building classification"
   ]
  },
  {
   "cell_type": "code",
   "execution_count": 18,
   "metadata": {},
   "outputs": [],
   "source": [
    "import numpy as np\n",
    "import matplotlib.pyplot as plt\n",
    "import sys\n",
    "sys.path.append(\"../src\")\n",
    "import solver\n",
    "import utils_peng"
   ]
  },
  {
   "cell_type": "markdown",
   "metadata": {},
   "source": [
    "## MNIST Problem\n",
    "\n",
    "[MNIST](http://yann.lecun.com/exdb/mnist/) is the most classic dataset used for classification.\n",
    "Our goal here is to classify the hand-written digits $0$ and $1$."
   ]
  },
  {
   "cell_type": "code",
   "execution_count": 19,
   "metadata": {},
   "outputs": [],
   "source": [
    "# load data\n",
    "data_folder = \"../data/\"\n",
    "training_images = np.load(data_folder + \"train_images.npy\")\n",
    "training_labels = np.load(data_folder + \"train_labels.npy\")\n",
    "testing_images = np.load(data_folder + \"test_images.npy\")\n",
    "testing_labels = np.load(data_folder + \"test_labels.npy\")\n",
    "\n",
    "image_shape = (28, 28)\n",
    "\n",
    "training_data = utils_peng.ImageData(training_images, image_shape, labels=training_labels)\n",
    "testing_data = utils_peng.ImageData(testing_images, image_shape, labels=testing_labels)"
   ]
  },
  {
   "cell_type": "code",
   "execution_count": 20,
   "metadata": {},
   "outputs": [
    {
     "name": "stdout",
     "output_type": "stream",
     "text": [
      "number of images: 1000\n",
      "number of \"0\" images: 462\n",
      "number of \"1\" images: 538\n"
     ]
    }
   ],
   "source": [
    "print(\"number of images:\", training_data.num_images)\n",
    "print(\"number of \\\"0\\\" images:\", training_data.class_sizes[0])\n",
    "print(\"number of \\\"1\\\" images:\", training_data.class_sizes[1])"
   ]
  },
  {
   "cell_type": "code",
   "execution_count": 21,
   "metadata": {},
   "outputs": [
    {
     "data": {
      "text/plain": [
       "Text(0.5, 1.0, '0')"
      ]
     },
     "execution_count": 21,
     "metadata": {},
     "output_type": "execute_result"
    },
    {
     "data": {
      "image/png": "[encoded data removed]",
      "text/plain": [
       "<Figure size 432x288 with 1 Axes>"
      ]
     },
     "metadata": {
      "needs_background": "light"
     },
     "output_type": "display_data"
    }
   ],
   "source": [
    "training_data.plot_image(0)\n",
    "plt.title(\"0\")"
   ]
  },
  {
   "cell_type": "code",
   "execution_count": 22,
   "metadata": {},
   "outputs": [
    {
     "data": {
      "text/plain": [
       "Text(0.5, 1.0, '1')"
      ]
     },
     "execution_count": 22,
     "metadata": {},
     "output_type": "execute_result"
    },
    {
     "data": {
      "image/png": "[encoded data removed]",
      "text/plain": [
       "<Figure size 432x288 with 1 Axes>"
      ]
     },
     "metadata": {
      "needs_background": "light"
     },
     "output_type": "display_data"
    }
   ],
   "source": [
    "training_data.plot_image(600)\n",
    "plt.title(\"1\")"
   ]
  },
  {
   "cell_type": "code",
   "execution_count": 23,
   "metadata": {},
   "outputs": [],
   "source": [
    "# create the model used for solving the classifier\n",
    "model = solver.BinaryLogisticRegression(training_data, lam=0.1, inlier_pct=0.9)"
   ]
  },
  {
   "cell_type": "code",
   "execution_count": 24,
   "metadata": {},
   "outputs": [
    {
     "name": "stdout",
     "output_type": "stream",
     "text": [
      "initial obj: 6.93e-01\n",
      "iter 1, obj 1.75e-01, err 9.92e+00\n",
      "iter 2, obj 9.52e-02, err 5.23e+00\n",
      "iter 3, obj 8.28e-02, err 3.46e+00\n",
      "iter 4, obj 8.17e-02, err 2.87e+00\n",
      "iter 5, obj 8.15e-02, err 1.38e+00\n",
      "iter 6, obj 8.15e-02, err 1.40e+00\n",
      "iter 7, obj 8.15e-02, err 6.30e-01\n",
      "iter 8, obj 8.15e-02, err 5.05e-01\n",
      "iter 9, obj 8.15e-02, err 4.93e-01\n",
      "iter 10, obj 8.15e-02, err 4.09e-07\n"
     ]
    }
   ],
   "source": [
    "classifier, outliers = model.fit_model(verbose=True)"
   ]
  },
  {
   "cell_type": "code",
   "execution_count": 25,
   "metadata": {},
   "outputs": [
    {
     "name": "stdout",
     "output_type": "stream",
     "text": [
      "[0. 0. 0. 0. 0. 0. 0. 0. 0. 0. 0. 0. 0. 0. 0. 0. 0. 0. 0. 0. 0. 0. 0. 0.\n",
      " 0. 0. 0. 0. 0. 0. 0. 0. 0. 0. 0. 0. 0. 0. 0. 0. 0. 0. 0. 0. 0. 0. 0. 0.\n",
      " 0. 0. 0. 0. 0. 0. 0. 0. 0. 0. 0. 0. 0. 0. 0. 0. 0. 0. 0. 0. 0. 0. 0. 0.\n",
      " 0. 0. 0. 0. 0. 0. 0. 0. 0. 1. 1. 1. 1. 1. 1. 1. 1. 1. 1. 1. 1. 1. 1. 1.\n",
      " 1. 1. 1. 1. 1. 1. 1. 1. 1. 1. 1. 1. 1. 1. 1. 1. 1. 1. 1. 1. 1. 1. 1. 1.\n",
      " 1. 1. 1. 1. 1. 1. 1. 1. 1. 1. 1. 1. 1. 1. 1. 1. 1. 1. 1. 1. 1. 1. 1. 1.\n",
      " 1. 1. 1. 1. 1. 1. 1. 1. 1. 1. 1. 1. 1. 1. 1. 1. 1. 1. 1. 1. 1. 1. 1. 1.\n",
      " 1. 1. 1. 1. 1. 1. 1. 1. 1. 1. 1. 1. 1. 1. 1. 1. 1. 1. 1. 1. 1. 1. 1. 1.\n",
      " 1. 1. 1. 1. 1. 1. 1. 1.]\n"
     ]
    }
   ],
   "source": [
    "# use the classifier to predict the new images\n",
    "classifier.modify_class_labels(np.array([0.0, 1.0]))\n",
    "pred_labels = classifier.classify_images(testing_data.images)\n",
    "\n",
    "print(pred_labels)"
   ]
  },
  {
   "cell_type": "code",
   "execution_count": 26,
   "metadata": {},
   "outputs": [
    {
     "name": "stdout",
     "output_type": "stream",
     "text": [
      "correct label pct in testing data: 1.00\n"
     ]
    }
   ],
   "source": [
    "print(\"correct label pct in testing data: %0.2f\" %\n",
    "      (np.sum(pred_labels == testing_data.labels)/testing_data.num_images))"
   ]
  },
  {
   "cell_type": "code",
   "execution_count": 27,
   "metadata": {},
   "outputs": [
    {
     "data": {
      "image/png": "[encoded data removed]",
      "text/plain": [
       "<Figure size 432x288 with 1 Axes>"
      ]
     },
     "metadata": {
      "needs_background": "light"
     },
     "output_type": "display_data"
    }
   ],
   "source": [
    "# check what is the classifier looks like\n",
    "classifier.plot_classifier()"
   ]
  },
  {
   "cell_type": "code",
   "execution_count": 28,
   "metadata": {},
   "outputs": [
    {
     "name": "stdout",
     "output_type": "stream",
     "text": [
      "number of outlier images: 100\n",
      "number of \"0\" outlier images: 50\n",
      "number of \"1\" outlier images: 50\n"
     ]
    },
    {
     "data": {
      "image/png": "[encoded data removed]",
      "text/plain": [
       "<Figure size 432x288 with 1 Axes>"
      ]
     },
     "metadata": {
      "needs_background": "light"
     },
     "output_type": "display_data"
    }
   ],
   "source": [
    "# check what is the outliers looks like\n",
    "print(\"number of outlier images:\", outliers.num_images)\n",
    "print(\"number of \\\"0\\\" outlier images:\", outliers.class_sizes[0])\n",
    "print(\"number of \\\"1\\\" outlier images:\", outliers.class_sizes[1])\n",
    "outliers.plot_image(62)"
   ]
  },
  {
   "cell_type": "code",
   "execution_count": null,
   "metadata": {},
   "outputs": [],
   "source": []
  }
 ],
 "metadata": {
  "kernelspec": {
   "display_name": "Python 3",
   "language": "python",
   "name": "python3"
  },
  "language_info": {
   "codemirror_mode": {
    "name": "ipython",
    "version": 3
   },
   "file_extension": ".py",
   "mimetype": "text/x-python",
   "name": "python",
   "nbconvert_exporter": "python",
   "pygments_lexer": "ipython3",
   "version": "3.8.3"
  }
 },
 "nbformat": 4,
 "nbformat_minor": 4
}
