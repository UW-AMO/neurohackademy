{
 "cells": [
  {
   "cell_type": "code",
   "execution_count": 1,
   "metadata": {},
   "outputs": [],
   "source": [
    "import sys\n",
    "\n",
    "import numpy as np\n",
    "import matplotlib.pyplot as plt\n",
    "\n",
    "sys.path.append('../src')\n",
    "import utils"
   ]
  },
  {
   "cell_type": "markdown",
   "metadata": {},
   "source": [
    "# Machine Learning Models\n",
    "\n",
    "Many problems in machine learing seek to build a model\n",
    "\n",
    "$$g(a; x) \\approx y$$\n",
    "\n",
    "given a data set\n",
    "\n",
    "$$\\{(a_1, y_1), \\dots, (a_m, y_m)\\},$$\n",
    "\n",
    "with components\n",
    "* $a_i \\in \\mathbf{R}^n$ - data features,\n",
    "* $y_i \\in \\mathbf{R}$ or $\\{0, 1\\}$ - data value or class,\n",
    "* $g: \\mathbf{R}^n \\to \\mathbf{R}$ or $\\{0, 1\\}$ - prediction function,\n",
    "* $x \\in \\mathbf{R}^n$ - model parameters,\n",
    "* $m$ - number of data points, and\n",
    "* $n$ - number of data features.\n",
    "\n",
    "We can fit a model to the given data by solving an optimization problem of the form\n",
    "\n",
    "$$\\min_x \\sum_{i=1}^m f_i(g(a_i; x), y_i) + r(x)$$\n",
    "\n",
    "with components\n",
    "* $x \\in \\mathbf{R}^n$ - model parameters,\n",
    "* $f_i: \\mathbf{R}^n \\to \\mathbf{R}$ - functions that measure how well the model fits the data for a given set of parameters, and\n",
    "* $r(x): \\mathbf{R}^n \\to \\mathbf{R}$ - regularization function."
   ]
  },
  {
   "cell_type": "markdown",
   "metadata": {},
   "source": [
    "# Logistic Regression\n",
    "\n",
    "In the logistic regression problem, we would like to find a linear predictor\n",
    "\n",
    "$$g(a_i; x) = x_1 a_{i1} + \\dots + x_n a_{in} = a_i^Tx \\approx \\begin{cases} \\text{positive} & \\Rightarrow \\quad y_i = 1, \\\\ \\text{negative} & \\Rightarrow \\quad y_i = 0, \\end{cases}$$\n",
    "\n",
    "where $a_i$ are continuous data features and $y_i \\in \\{0, 1\\}$ are discrete class labels.\n",
    "One approach for deriving the [loss functions](https://en.wikipedia.org/wiki/Loss_function) $f_i$ is to combine the [Bernoulli model](https://en.wikipedia.org/wiki/Bernoulli_distribution) with a linear predictor, and then develop a [maximum likelihood](https://en.wikipedia.org/wiki/Maximum_likelihood_estimation) formulation.\n",
    "Let $p_i$ be the probability that observation $i$ belongs to class 1.\n",
    "We begin by writing the probability mass function for an observation $(a_i, y_i)$ given model parameters $x$ in standard form:\n",
    "\n",
    "\\begin{align}\n",
    "p((a_i, y_i); x) &= p_i^{y_i} (1 - p_i)^{1 - y_i} \\\\\n",
    "&= \\exp\\big( y_i \\log(p_i) + (1 - y_i) \\log(1 - p_i) \\big) \\\\\n",
    "&= \\exp\\left( y_i \\log\\left(\\frac{p_i}{1 - p_i}\\right) + \\log(1 - p_i) \\right)\n",
    "\\end{align}\n",
    "\n",
    "Next, we assume that the term multiplied by $y_i$, the [log-odds](https://en.wikipedia.org/wiki/Logit) of observation $i$ belonging to class 1, can be approximated with our linear predictor:\n",
    "\n",
    "$$\\log\\left(\\frac{p_i}{1 - p_i}\\right) \\approx a_i^Tx$$\n",
    "\n",
    "Substituting this into our probability above, the PMF of all $m$ i.i.d. observations is\n",
    "\n",
    "\\begin{align}\n",
    "p\\big(\\{(a_1, y_1), \\dots, (a_m, y_m)\\}; x\\big) &= \\prod_{i=1}^m p((a_i, y_i); x) \\\\\n",
    "&= \\prod_{i=1}^m \\exp\\big(y_i a_i^Tx - \\log\\left(1 + \\exp(a_i^Tx)\\right) \\big) \\\\\n",
    "&= \\exp\\left(\\sum_{i=1}^n y_i a_i^Tx - \\log\\left( 1 + \\exp(a_i^Tx) \\right) \\right).\n",
    "\\end{align}\n",
    "\n",
    "Alternatively, we can consider the likelihood of a set of model parameters given our $m$ observations,\n",
    "\n",
    "$$\\mathcal{L}\\big(x; \\{(a_1, y_1), \\dots, (a_m, y_m) \\} \\big) = p\\big(\\{(a_1, y_1), \\dots, (a_m, y_m)\\}; x\\big),$$\n",
    "\n",
    "so that we can solve an optimization problem to find the parameters with the maximum likelihood.\n",
    "In practice, this is often done by minimizing the negative log-likelihood, which results in our logistic regression problem\n",
    "\n",
    "$$\\min_x \\sum_{i=1}^m \\log\\big( 1 + \\exp(a_i^Tx) \\big) - y_i a_i^T x.$$\n",
    "\n",
    "After solving for the model parameters, we can predict the class labels of new data using the sign of the linear predictor,\n",
    "\n",
    "$$g(a_i; x) = \\begin{cases} 1 & \\text{if} \\quad a_i^Tx \\geq 0, \\\\ 0 & \\text{if} \\quad a_i^T < 0, \\end{cases}$$\n",
    "\n",
    "or we can approximate the probability of an observation belonging to class 1,\n",
    "\n",
    "$$P(y_i = 1 | a_i, x) = \\frac{\\exp(a_i^Tx)}{1 + \\exp(a_i^Tx)} = \\frac{1}{1 + \\exp(-a_i^Tx)},$$\n",
    "\n",
    "where the [logistic model](https://en.wikipedia.org/wiki/Logistic_function) follows from our linear approximation of the log-odds."
   ]
  },
  {
   "cell_type": "code",
   "execution_count": 55,
   "metadata": {},
   "outputs": [
    {
     "data": {
      "image/png": "[encoded data removed]",
      "text/plain": [
       "<Figure size 1080x360 with 2 Axes>"
      ]
     },
     "metadata": {
      "needs_background": "light"
     },
     "output_type": "display_data"
    }
   ],
   "source": [
    "# Generate data\n",
    "n = 50\n",
    "x = np.array([-10, 2])\n",
    "a = np.linspace(0, 10, n)\n",
    "p = lambda a: 1/(1 + np.exp(-(x[0] + x[1]*a)))\n",
    "y = np.array([0 if p(ii) + 0.5*np.random.randn() < 0.5 else 1 for ii in a])\n",
    "a0 = a[y == 0]\n",
    "a1 = a[y == 1]\n",
    "\n",
    "# Plot log-odds\n",
    "fig, ax = plt.subplots(1, 2, figsize=(15, 5))\n",
    "ax[0].plot(a0, x[0] + x[1]*a0, '.')\n",
    "ax[0].plot(a1, x[0] + x[1]*a1, '.')\n",
    "ax[0].plot([0, 10], [0, 0], 'k--')\n",
    "ax[0].set_xlabel('Data Features ($a_i$)')\n",
    "ax[0].set_ylabel('Log-Odds for $y_i=1$')\n",
    "ax[0].legend(['$y_i = 0$', '$y_i = 1$'])\n",
    "\n",
    "# Plot probability\n",
    "ax[1].plot(a, y, '.')\n",
    "ax[1].plot(a, p(a))\n",
    "ax[1].set_xlabel('Data Features ($a_i$)')\n",
    "ax[1].set_ylabel('$P(y_i=1)$')\n",
    "ax[1].legend(['Class Label ($y_i$)'])\n",
    "plt.show()"
   ]
  },
  {
   "cell_type": "markdown",
   "metadata": {},
   "source": [
    "# MNIST\n",
    "\n",
    "The [MNIST](http://yann.lecun.com/exdb/mnist/) data set contains images of handwritten digits and their class labels.\n",
    "For our examples, we will consider a subset of 1000 training images and 200 test images that contain zeros and ones, and our goal will be to build a classifier to correctly predict whether a given image contains a zero or a one."
   ]
  },
  {
   "cell_type": "code",
   "execution_count": 123,
   "metadata": {},
   "outputs": [
    {
     "name": "stdout",
     "output_type": "stream",
     "text": [
      "Number of training images: 1000\n",
      "Number of testing images: 200\n"
     ]
    },
    {
     "data": {
      "image/png": "[encoded data removed]",
      "text/plain": [
       "<Figure size 432x288 with 2 Axes>"
      ]
     },
     "metadata": {
      "needs_background": "light"
     },
     "output_type": "display_data"
    }
   ],
   "source": [
    "# Load data\n",
    "A_train = np.load('../data/train_images.npy')\n",
    "y_train = np.load('../data/train_labels.npy')\n",
    "A_test = np.load('../data/test_images.npy')\n",
    "y_test = np.load('../data/test_labels.npy')\n",
    "print(f'Number of training images: {y_train.size}')\n",
    "print(f'Number of testing images: {y_test.size}')\n",
    "\n",
    "# Show two examples\n",
    "fig, ax = plt.subplots(1, 2)\n",
    "ax[0].imshow(train_images[1].reshape(28, 28))\n",
    "ax[0].axis('off')\n",
    "ax[1].imshow(train_images[2].reshape(28, 28))\n",
    "ax[1].axis('off');"
   ]
  },
  {
   "cell_type": "markdown",
   "metadata": {},
   "source": [
    "Here we will build a classifier using 2-norm regularization.\n",
    "\n",
    "Write some stuff! Make an exercise???"
   ]
  },
  {
   "cell_type": "code",
   "execution_count": 124,
   "metadata": {},
   "outputs": [
    {
     "name": "stdout",
     "output_type": "stream",
     "text": [
      "Maximum number of iterations reached: 1000.\n",
      "Minimum function value: 8.32\n",
      "Total time: 2.50 secs\n"
     ]
    }
   ],
   "source": [
    "lam = 0.1\n",
    "step = 1/(np.linalg.norm(train_images)**2/4 + lam)\n",
    "def func(x):\n",
    "    z = A_train.dot(x)\n",
    "    return np.sum(np.log(1 + np.exp(z)) - y_train*z) + lam*np.sum(x**2)/2\n",
    "def grad(x):\n",
    "    z = A_train.dot(x)\n",
    "    return A_train.T.dot(np.exp(z)/(1 + np.exp(z)) - y_train) + lam*x\n",
    "results = utils.gradient_descent(func, grad, step=step, x0=np.zeros_like(train_images[0]))"
   ]
  },
  {
   "cell_type": "code",
   "execution_count": 125,
   "metadata": {},
   "outputs": [
    {
     "data": {
      "image/png": "[encoded data removed]",
      "text/plain": [
       "<Figure size 1440x360 with 3 Axes>"
      ]
     },
     "metadata": {
      "needs_background": "light"
     },
     "output_type": "display_data"
    }
   ],
   "source": [
    "# Move this to utils.py\n",
    "\n",
    "fig, ax = plt.subplots(1, 3, figsize=(20, 5))\n",
    "\n",
    "# Plot solution\n",
    "ax[0].imshow(results[0].reshape(28, 28))\n",
    "ax[0].set_ylabel('Solution ($x^*$)')\n",
    "ax[0].set_xticklabels([])\n",
    "ax[0].set_yticklabels([])\n",
    "\n",
    "# Plot function value\n",
    "ax[1].plot(results[2])\n",
    "ax[1].set_xlabel('Iteration ($k$)')\n",
    "ax[1].set_ylabel('$f(x^k)$')\n",
    "\n",
    "# Plot norm of gradient\n",
    "ax[2].plot(results[3])\n",
    "ax[2].set_xlabel('Iteration ($k$)')\n",
    "ax[2].set_ylabel(r'$||\\nabla f(x^k)||$');"
   ]
  },
  {
   "cell_type": "code",
   "execution_count": 147,
   "metadata": {},
   "outputs": [
    {
     "data": {
      "text/plain": [
       "99.9"
      ]
     },
     "execution_count": 147,
     "metadata": {},
     "output_type": "execute_result"
    }
   ],
   "source": [
    "# Move this to utils.py\n",
    "\n",
    "z_train = A_train.dot(results[0])\n",
    "p_train = [0 if z < 0 else 1 for z in z_train]\n",
    "100*sum(p_train == y_train)/len(y_train)"
   ]
  },
  {
   "cell_type": "code",
   "execution_count": 148,
   "metadata": {
    "scrolled": true
   },
   "outputs": [
    {
     "data": {
      "text/plain": [
       "100.0"
      ]
     },
     "execution_count": 148,
     "metadata": {},
     "output_type": "execute_result"
    }
   ],
   "source": [
    "z_test = A_test.dot(results[0])\n",
    "p_test = [0 if z < 0 else 1 for z in z_test]\n",
    "100*sum(p_test == y_test)/len(y_test)"
   ]
  },
  {
   "cell_type": "markdown",
   "metadata": {},
   "source": [
    "Motivation for trimming: there may be some weird examples!\n",
    "\n",
    "Trimming may not only improve optimization, but can also identify bad/weird examples\n",
    "\n",
    "Add description of trimming (Sasha's linear example)\n",
    "\n",
    "Exercise will be to play around with the parameter that chooses percent of examples to trim."
   ]
  },
  {
   "cell_type": "code",
   "execution_count": 155,
   "metadata": {},
   "outputs": [
    {
     "data": {
      "text/plain": [
       "<matplotlib.image.AxesImage at 0x12092e490>"
      ]
     },
     "execution_count": 155,
     "metadata": {},
     "output_type": "execute_result"
    },
    {
     "data": {
      "image/png": "[encoded data removed]",
      "text/plain": [
       "<Figure size 432x288 with 1 Axes>"
      ]
     },
     "metadata": {
      "needs_background": "light"
     },
     "output_type": "display_data"
    }
   ],
   "source": [
    "plt.imshow(A_train[p_train != y_train].reshape(28, 28))"
   ]
  },
  {
   "cell_type": "code",
   "execution_count": null,
   "metadata": {},
   "outputs": [],
   "source": []
  },
  {
   "cell_type": "code",
   "execution_count": null,
   "metadata": {},
   "outputs": [],
   "source": []
  },
  {
   "cell_type": "code",
   "execution_count": null,
   "metadata": {},
   "outputs": [],
   "source": []
  }
 ],
 "metadata": {
  "kernelspec": {
   "display_name": "Python 3",
   "language": "python",
   "name": "python3"
  },
  "language_info": {
   "codemirror_mode": {
    "name": "ipython",
    "version": 3
   },
   "file_extension": ".py",
   "mimetype": "text/x-python",
   "name": "python",
   "nbconvert_exporter": "python",
   "pygments_lexer": "ipython3",
   "version": "3.8.3"
  }
 },
 "nbformat": 4,
 "nbformat_minor": 4
}
