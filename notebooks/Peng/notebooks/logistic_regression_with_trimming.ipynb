{
 "cells": [
  {
   "cell_type": "markdown",
   "metadata": {},
   "source": [
    "# Logistic Regression With Trimming\n",
    "\n",
    "In this tutorial, we will play with the robust version of the classic binary classification problem.\n",
    "\n",
    "**Brief summary**. Denote $\\{y_i, a_i\\}$ as our data pair, where $a_i$ is the $i$th image and $y_i$ is the corresponding label. Our goal is to come up with a classifier such that when there is a new image, we could automatically generate the label. When there are only two classes, for example all the $y_i$ are either $-1$ or $1$, we could use *logistic regression* to accomplish this goal. Moreover we will spin in a robust variation to automatically detect anomalies (weird images).\n",
    "\n",
    "**Some math**. Assume $y_i \\in \\{-1, 1\\}$, we could write out our negative log likelihood for trimming logistic regression.\n",
    "$$\n",
    "\\min_{x, w}~~\\frac{1}{m}\\sum_{i=1}^m w_i\\log(1 + \\exp(-y_i \\langle a_i, x \\rangle)) + \\frac{\\lambda}{2}\\|x\\|^2\n",
    "\\quad \\text{s.t.}~~0 \\le w_i \\le 1,~\\sum_{i=1}^m w_i = h\n",
    "$$\n",
    "where $x$ is our classifier and $w$ is the trimming weights.\n",
    "\n",
    "**Examples**. We will go throught two examples in this notebook,\n",
    "* MNIST 0-1 classification\n",
    "* Building classification"
   ]
  },
  {
   "cell_type": "code",
   "execution_count": null,
   "metadata": {},
   "outputs": [],
   "source": [
    "import numpy as np\n",
    "import matplotlib.pyplot as plt\n",
    "import sys\n",
    "sys.path.append(\"../src\")\n",
    "import solver\n",
    "import utils\n",
    "import simulate"
   ]
  },
  {
   "cell_type": "markdown",
   "metadata": {},
   "source": [
    "## MNIST Problem\n",
    "\n",
    "[MNIST](http://yann.lecun.com/exdb/mnist/) is the most classic dataset used for classification.\n",
    "Our goal here is to classify the hand-written digits $0$ and $1$."
   ]
  },
  {
   "cell_type": "code",
   "execution_count": null,
   "metadata": {},
   "outputs": [],
   "source": [
    "# load data\n",
    "data_folder = \"../data/\"\n",
    "training_images = np.load(data_folder + \"train_images.npy\")\n",
    "training_labels = np.load(data_folder + \"train_labels.npy\")\n",
    "testing_images = np.load(data_folder + \"test_images.npy\")\n",
    "testing_labels = np.load(data_folder + \"test_labels.npy\")\n",
    "\n",
    "image_shape = (28, 28)\n",
    "\n",
    "training_data = utils.ImageData(training_images, image_shape, labels=training_labels)\n",
    "testing_data = utils.ImageData(testing_images, image_shape, labels=testing_labels)"
   ]
  },
  {
   "cell_type": "code",
   "execution_count": null,
   "metadata": {},
   "outputs": [],
   "source": [
    "print(\"number of images:\", training_data.num_images)\n",
    "print(\"number of \\\"0\\\" images:\", training_data.class_sizes[0])\n",
    "print(\"number of \\\"1\\\" images:\", training_data.class_sizes[1])"
   ]
  },
  {
   "cell_type": "code",
   "execution_count": null,
   "metadata": {},
   "outputs": [],
   "source": [
    "training_data.plot_image(0)\n",
    "plt.title(\"0\")"
   ]
  },
  {
   "cell_type": "code",
   "execution_count": null,
   "metadata": {},
   "outputs": [],
   "source": [
    "training_data.plot_image(600)\n",
    "plt.title(\"1\")"
   ]
  },
  {
   "cell_type": "code",
   "execution_count": null,
   "metadata": {},
   "outputs": [],
   "source": [
    "# create the model used for solving the classifier\n",
    "model = solver.BinaryLogisticRegression(training_data, lam=0.1, inlier_pct=0.9)"
   ]
  },
  {
   "cell_type": "code",
   "execution_count": null,
   "metadata": {},
   "outputs": [],
   "source": [
    "classifier, outliers = model.fit_model(verbose=True)"
   ]
  },
  {
   "cell_type": "code",
   "execution_count": null,
   "metadata": {},
   "outputs": [],
   "source": [
    "# use the classifier to predict the new images\n",
    "classifier.modify_class_labels(np.array([0.0, 1.0]))\n",
    "pred_labels = classifier.classify_images(testing_data.images)\n",
    "\n",
    "print(pred_labels)"
   ]
  },
  {
   "cell_type": "code",
   "execution_count": null,
   "metadata": {},
   "outputs": [],
   "source": [
    "print(\"correct label pct in testing data: %0.2f\" %\n",
    "      (np.sum(pred_labels == testing_data.labels)/testing_data.num_images))"
   ]
  },
  {
   "cell_type": "code",
   "execution_count": null,
   "metadata": {},
   "outputs": [],
   "source": [
    "# check what is the classifier looks like\n",
    "classifier.plot_classifier()"
   ]
  },
  {
   "cell_type": "code",
   "execution_count": null,
   "metadata": {},
   "outputs": [],
   "source": [
    "# check what is the outliers looks like\n",
    "print(\"number of outlier images:\", outliers.num_images)\n",
    "print(\"number of \\\"0\\\" outlier images:\", outliers.class_sizes[0])\n",
    "print(\"number of \\\"1\\\" outlier images:\", outliers.class_sizes[1])\n",
    "outliers.plot_image(62)"
   ]
  },
  {
   "cell_type": "markdown",
   "metadata": {},
   "source": [
    "## Building Detection"
   ]
  },
  {
   "cell_type": "code",
   "execution_count": null,
   "metadata": {},
   "outputs": [],
   "source": [
    "# building image\n",
    "building_data = simulate.simulate_images((28, 28), [1, 0, 0])\n",
    "crosses_data = simulate.simulate_images((28, 28), [0, 1, 0])\n",
    "outliers_data = simulate.simulate_images((28, 28), [0, 0, 1])"
   ]
  },
  {
   "cell_type": "code",
   "execution_count": null,
   "metadata": {},
   "outputs": [],
   "source": [
    "building_data.plot_image(0)\n",
    "plt.title(\"building\")"
   ]
  },
  {
   "cell_type": "code",
   "execution_count": null,
   "metadata": {},
   "outputs": [],
   "source": [
    "crosses_data.plot_image(0)\n",
    "plt.title(\"crosses\")"
   ]
  },
  {
   "cell_type": "code",
   "execution_count": null,
   "metadata": {},
   "outputs": [],
   "source": [
    "outliers_data.plot_image(0)\n",
    "plt.title('outliers')"
   ]
  },
  {
   "cell_type": "code",
   "execution_count": null,
   "metadata": {},
   "outputs": [],
   "source": [
    "# simulate data\n",
    "training_data = simulate.simulate_images((28, 28), [100, 100, 20])"
   ]
  },
  {
   "cell_type": "code",
   "execution_count": null,
   "metadata": {},
   "outputs": [],
   "source": [
    "# create the model used for solving the classifier\n",
    "model = solver.BinaryLogisticRegression(training_data, lam=0.1, inlier_pct=0.9)"
   ]
  },
  {
   "cell_type": "code",
   "execution_count": null,
   "metadata": {},
   "outputs": [],
   "source": [
    "classifier, outliers = model.fit_model(verbose=True)"
   ]
  },
  {
   "cell_type": "code",
   "execution_count": null,
   "metadata": {},
   "outputs": [],
   "source": [
    "# use the classifier to predict the new images\n",
    "classifier.modify_class_labels(np.array([\"building\", \"not building\"]))\n",
    "testing_data = simulate.simulate_images((28, 28), [0, 0, 1])\n",
    "testing_data.plot_image(0)\n",
    "pred_labels = classifier.classify_images(testing_data.images)\n",
    "print(pred_labels)"
   ]
  },
  {
   "cell_type": "code",
   "execution_count": null,
   "metadata": {},
   "outputs": [],
   "source": [
    "# check what is the outliers looks like\n",
    "print(\"number of outlier images:\", outliers.num_images)\n",
    "print(\"number of buildings outlier images:\", outliers.class_sizes[0])\n",
    "print(\"number of crosses outlier images:\", outliers.class_sizes[1])\n",
    "outliers.plot_image(20)"
   ]
  },
  {
   "cell_type": "code",
   "execution_count": null,
   "metadata": {},
   "outputs": [],
   "source": []
  }
 ],
 "metadata": {
  "kernelspec": {
   "display_name": "Python 3",
   "language": "python",
   "name": "python3"
  },
  "language_info": {
   "codemirror_mode": {
    "name": "ipython",
    "version": 3
   },
   "file_extension": ".py",
   "mimetype": "text/x-python",
   "name": "python",
   "nbconvert_exporter": "python",
   "pygments_lexer": "ipython3",
   "version": "3.7.3"
  }
 },
 "nbformat": 4,
 "nbformat_minor": 2
}
