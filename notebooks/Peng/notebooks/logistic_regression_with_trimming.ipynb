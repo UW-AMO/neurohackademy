{
 "cells": [
  {
   "cell_type": "markdown",
   "metadata": {},
   "source": [
    "# Logistic Regression With Trimming\n",
    "\n",
    "In this tutorial, we will play with the robust version of the classic binary classification problem.\n",
    "\n",
    "**Brief summary**. Denote $\\{y_i, a_i\\}$ as our data pair, where $a_i$ is the $i$th image and $y_i$ is the corresponding label. Our goal is to come up with a classifier such that when there is a new image, we could automatically generate the label. When there are only two classes, for example all the $y_i$ are either $-1$ or $1$, we could use *logistic regression* to accomplish this goal. Moreover we will spin in a robust variation to automatically detect anomalies (weird images).\n",
    "\n",
    "**Some math**. Assume $y_i \\in \\{-1, 1\\}$, we could write out our negative log likelihood for trimming logistic regression.\n",
    "$$\n",
    "\\min_{x, w}~~\\frac{1}{m}\\sum_{i=1}^m w_i\\log(1 + \\exp(-y_i \\langle a_i, x \\rangle)) + \\frac{\\lambda}{2}\\|x\\|^2\n",
    "\\quad \\text{s.t.}~~0 \\le w_i \\le 1,~\\sum_{i=1}^m w_i = h\n",
    "$$\n",
    "where $x$ is our classifier and $w$ is the trimming weights.\n",
    "\n",
    "**Examples**. We will go throught two examples in this notebook,\n",
    "* MNIST 0-1 classification\n",
    "* Building classification"
   ]
  },
  {
   "cell_type": "code",
   "execution_count": 1,
   "metadata": {},
   "outputs": [],
   "source": [
    "import numpy as np\n",
    "import matplotlib.pyplot as plt\n",
    "import sys\n",
    "sys.path.append(\"../src\")\n",
    "import solver\n",
    "import utils\n",
    "import simulate"
   ]
  },
  {
   "cell_type": "markdown",
   "metadata": {},
   "source": [
    "## MNIST Problem\n",
    "\n",
    "[MNIST](http://yann.lecun.com/exdb/mnist/) is the most classic dataset used for classification.\n",
    "Our goal here is to classify the hand-written digits $0$ and $1$."
   ]
  },
  {
   "cell_type": "code",
   "execution_count": 2,
   "metadata": {},
   "outputs": [],
   "source": [
    "# load data\n",
    "data_folder = \"../data/\"\n",
    "training_images = np.load(data_folder + \"train_images.npy\")\n",
    "training_labels = np.load(data_folder + \"train_labels.npy\")\n",
    "testing_images = np.load(data_folder + \"test_images.npy\")\n",
    "testing_labels = np.load(data_folder + \"test_labels.npy\")\n",
    "\n",
    "image_shape = (28, 28)\n",
    "\n",
    "training_data = utils.ImageData(training_images, image_shape, labels=training_labels)\n",
    "testing_data = utils.ImageData(testing_images, image_shape, labels=testing_labels)"
   ]
  },
  {
   "cell_type": "code",
   "execution_count": 3,
   "metadata": {},
   "outputs": [
    {
     "name": "stdout",
     "output_type": "stream",
     "text": [
      "number of images: 1000\n",
      "number of \"0\" images: 462\n",
      "number of \"1\" images: 538\n"
     ]
    }
   ],
   "source": [
    "print(\"number of images:\", training_data.num_images)\n",
    "print(\"number of \\\"0\\\" images:\", training_data.class_sizes[0])\n",
    "print(\"number of \\\"1\\\" images:\", training_data.class_sizes[1])"
   ]
  },
  {
   "cell_type": "code",
   "execution_count": 4,
   "metadata": {},
   "outputs": [
    {
     "data": {
      "text/plain": [
       "Text(0.5, 1.0, '0')"
      ]
     },
     "execution_count": 4,
     "metadata": {},
     "output_type": "execute_result"
    },
    {
     "data": {
      "image/png": "[encoded data removed]",
      "text/plain": [
       "<Figure size 432x288 with 1 Axes>"
      ]
     },
     "metadata": {
      "needs_background": "light"
     },
     "output_type": "display_data"
    }
   ],
   "source": [
    "training_data.plot_image(0)\n",
    "plt.title(\"0\")"
   ]
  },
  {
   "cell_type": "code",
   "execution_count": 5,
   "metadata": {},
   "outputs": [
    {
     "data": {
      "text/plain": [
       "Text(0.5, 1.0, '1')"
      ]
     },
     "execution_count": 5,
     "metadata": {},
     "output_type": "execute_result"
    },
    {
     "data": {
      "image/png": "[encoded data removed]",
      "text/plain": [
       "<Figure size 432x288 with 1 Axes>"
      ]
     },
     "metadata": {
      "needs_background": "light"
     },
     "output_type": "display_data"
    }
   ],
   "source": [
    "training_data.plot_image(600)\n",
    "plt.title(\"1\")"
   ]
  },
  {
   "cell_type": "code",
   "execution_count": 6,
   "metadata": {},
   "outputs": [],
   "source": [
    "# create the model used for solving the classifier\n",
    "model = solver.BinaryLogisticRegression(training_data, lam=0.1, inlier_pct=0.9)"
   ]
  },
  {
   "cell_type": "code",
   "execution_count": 7,
   "metadata": {},
   "outputs": [
    {
     "name": "stdout",
     "output_type": "stream",
     "text": [
      "initial obj: 6.93e-01\n",
      "iter 1, obj 1.75e-01, err 9.92e+00\n",
      "iter 2, obj 9.52e-02, err 5.23e+00\n",
      "iter 3, obj 8.28e-02, err 3.46e+00\n",
      "iter 4, obj 8.17e-02, err 2.87e+00\n",
      "iter 5, obj 8.15e-02, err 1.38e+00\n",
      "iter 6, obj 8.15e-02, err 1.40e+00\n",
      "iter 7, obj 8.15e-02, err 6.30e-01\n",
      "iter 8, obj 8.15e-02, err 5.05e-01\n",
      "iter 9, obj 8.15e-02, err 4.93e-01\n",
      "iter 10, obj 8.15e-02, err 4.09e-07\n"
     ]
    }
   ],
   "source": [
    "classifier, outliers = model.fit_model(verbose=True)"
   ]
  },
  {
   "cell_type": "code",
   "execution_count": 8,
   "metadata": {},
   "outputs": [
    {
     "name": "stdout",
     "output_type": "stream",
     "text": [
      "[0. 0. 0. 0. 0. 0. 0. 0. 0. 0. 0. 0. 0. 0. 0. 0. 0. 0. 0. 0. 0. 0. 0. 0.\n",
      " 0. 0. 0. 0. 0. 0. 0. 0. 0. 0. 0. 0. 0. 0. 0. 0. 0. 0. 0. 0. 0. 0. 0. 0.\n",
      " 0. 0. 0. 0. 0. 0. 0. 0. 0. 0. 0. 0. 0. 0. 0. 0. 0. 0. 0. 0. 0. 0. 0. 0.\n",
      " 0. 0. 0. 0. 0. 0. 0. 0. 0. 1. 1. 1. 1. 1. 1. 1. 1. 1. 1. 1. 1. 1. 1. 1.\n",
      " 1. 1. 1. 1. 1. 1. 1. 1. 1. 1. 1. 1. 1. 1. 1. 1. 1. 1. 1. 1. 1. 1. 1. 1.\n",
      " 1. 1. 1. 1. 1. 1. 1. 1. 1. 1. 1. 1. 1. 1. 1. 1. 1. 1. 1. 1. 1. 1. 1. 1.\n",
      " 1. 1. 1. 1. 1. 1. 1. 1. 1. 1. 1. 1. 1. 1. 1. 1. 1. 1. 1. 1. 1. 1. 1. 1.\n",
      " 1. 1. 1. 1. 1. 1. 1. 1. 1. 1. 1. 1. 1. 1. 1. 1. 1. 1. 1. 1. 1. 1. 1. 1.\n",
      " 1. 1. 1. 1. 1. 1. 1. 1.]\n"
     ]
    }
   ],
   "source": [
    "# use the classifier to predict the new images\n",
    "classifier.modify_class_labels(np.array([0.0, 1.0]))\n",
    "pred_labels = classifier.classify_images(testing_data.images)\n",
    "\n",
    "print(pred_labels)"
   ]
  },
  {
   "cell_type": "code",
   "execution_count": 9,
   "metadata": {},
   "outputs": [
    {
     "name": "stdout",
     "output_type": "stream",
     "text": [
      "correct label pct in testing data: 1.00\n"
     ]
    }
   ],
   "source": [
    "print(\"correct label pct in testing data: %0.2f\" %\n",
    "      (np.sum(pred_labels == testing_data.labels)/testing_data.num_images))"
   ]
  },
  {
   "cell_type": "code",
   "execution_count": 10,
   "metadata": {},
   "outputs": [
    {
     "data": {
      "image/png": "[encoded data removed]",
      "text/plain": [
       "<Figure size 432x288 with 1 Axes>"
      ]
     },
     "metadata": {
      "needs_background": "light"
     },
     "output_type": "display_data"
    }
   ],
   "source": [
    "# check what is the classifier looks like\n",
    "classifier.plot_classifier()"
   ]
  },
  {
   "cell_type": "code",
   "execution_count": 11,
   "metadata": {},
   "outputs": [
    {
     "name": "stdout",
     "output_type": "stream",
     "text": [
      "number of outlier images: 100\n",
      "number of \"0\" outlier images: 50\n",
      "number of \"1\" outlier images: 50\n"
     ]
    },
    {
     "data": {
      "image/png": "[encoded data removed]",
      "text/plain": [
       "<Figure size 432x288 with 1 Axes>"
      ]
     },
     "metadata": {
      "needs_background": "light"
     },
     "output_type": "display_data"
    }
   ],
   "source": [
    "# check what is the outliers looks like\n",
    "print(\"number of outlier images:\", outliers.num_images)\n",
    "print(\"number of \\\"0\\\" outlier images:\", outliers.class_sizes[0])\n",
    "print(\"number of \\\"1\\\" outlier images:\", outliers.class_sizes[1])\n",
    "outliers.plot_image(62)"
   ]
  },
  {
   "cell_type": "markdown",
   "metadata": {},
   "source": [
    "## Building Detection"
   ]
  },
  {
   "cell_type": "code",
   "execution_count": 12,
   "metadata": {},
   "outputs": [],
   "source": [
    "# building image\n",
    "building_data = simulate.simulate_images((28, 28), [1, 0, 0])\n",
    "crosses_data = simulate.simulate_images((28, 28), [0, 1, 0])\n",
    "outliers_data = simulate.simulate_images((28, 28), [0, 0, 1])"
   ]
  },
  {
   "cell_type": "code",
   "execution_count": 13,
   "metadata": {},
   "outputs": [
    {
     "data": {
      "text/plain": [
       "Text(0.5, 1.0, 'building')"
      ]
     },
     "execution_count": 13,
     "metadata": {},
     "output_type": "execute_result"
    },
    {
     "data": {
      "image/png": "[encoded data removed]",
      "text/plain": [
       "<Figure size 432x288 with 1 Axes>"
      ]
     },
     "metadata": {
      "needs_background": "light"
     },
     "output_type": "display_data"
    }
   ],
   "source": [
    "building_data.plot_image(0)\n",
    "plt.title(\"building\")"
   ]
  },
  {
   "cell_type": "code",
   "execution_count": 14,
   "metadata": {},
   "outputs": [
    {
     "data": {
      "text/plain": [
       "Text(0.5, 1.0, 'crosses')"
      ]
     },
     "execution_count": 14,
     "metadata": {},
     "output_type": "execute_result"
    },
    {
     "data": {
      "image/png": "[encoded data removed]",
      "text/plain": [
       "<Figure size 432x288 with 1 Axes>"
      ]
     },
     "metadata": {
      "needs_background": "light"
     },
     "output_type": "display_data"
    }
   ],
   "source": [
    "crosses_data.plot_image(0)\n",
    "plt.title(\"crosses\")"
   ]
  },
  {
   "cell_type": "code",
   "execution_count": 15,
   "metadata": {},
   "outputs": [
    {
     "data": {
      "text/plain": [
       "Text(0.5, 1.0, 'outliers')"
      ]
     },
     "execution_count": 15,
     "metadata": {},
     "output_type": "execute_result"
    },
    {
     "data": {
      "image/png": "[encoded data removed]",
      "text/plain": [
       "<Figure size 432x288 with 1 Axes>"
      ]
     },
     "metadata": {
      "needs_background": "light"
     },
     "output_type": "display_data"
    }
   ],
   "source": [
    "outliers_data.plot_image(0)\n",
    "plt.title('outliers')"
   ]
  },
  {
   "cell_type": "code",
   "execution_count": 16,
   "metadata": {},
   "outputs": [],
   "source": [
    "# simulate data\n",
    "training_data = simulate.simulate_images((28, 28), [100, 100, 20])"
   ]
  },
  {
   "cell_type": "code",
   "execution_count": 17,
   "metadata": {},
   "outputs": [],
   "source": [
    "# create the model used for solving the classifier\n",
    "model = solver.BinaryLogisticRegression(training_data, lam=0.1, inlier_pct=0.9)"
   ]
  },
  {
   "cell_type": "code",
   "execution_count": 18,
   "metadata": {},
   "outputs": [
    {
     "name": "stdout",
     "output_type": "stream",
     "text": [
      "initial obj: 6.93e-01\n",
      "iter 1, obj 2.72e-01, err 4.57e+00\n",
      "iter 2, obj 2.13e-01, err 1.44e+00\n",
      "iter 3, obj 2.11e-01, err 1.29e-03\n",
      "iter 4, obj 2.11e-01, err 4.82e-06\n",
      "iter 5, obj 2.11e-01, err 8.66e-11\n"
     ]
    }
   ],
   "source": [
    "classifier, outliers = model.fit_model(verbose=True)"
   ]
  },
  {
   "cell_type": "code",
   "execution_count": 19,
   "metadata": {},
   "outputs": [
    {
     "name": "stdout",
     "output_type": "stream",
     "text": [
      "['building']\n"
     ]
    },
    {
     "data": {
      "image/png": "[encoded data removed]",
      "text/plain": [
       "<Figure size 432x288 with 1 Axes>"
      ]
     },
     "metadata": {
      "needs_background": "light"
     },
     "output_type": "display_data"
    }
   ],
   "source": [
    "# use the classifier to predict the new images\n",
    "classifier.modify_class_labels(np.array([\"building\", \"not building\"]))\n",
    "testing_data = simulate.simulate_images((28, 28), [0, 0, 1])\n",
    "testing_data.plot_image(0)\n",
    "pred_labels = classifier.classify_images(testing_data.images)\n",
    "print(pred_labels)"
   ]
  },
  {
   "cell_type": "code",
   "execution_count": 20,
   "metadata": {},
   "outputs": [
    {
     "name": "stdout",
     "output_type": "stream",
     "text": [
      "number of outlier images: 22\n",
      "number of buildings outlier images: 15\n",
      "number of crosses outlier images: 7\n"
     ]
    },
    {
     "data": {
      "image/png": "[encoded data removed]",
      "text/plain": [
       "<Figure size 432x288 with 1 Axes>"
      ]
     },
     "metadata": {
      "needs_background": "light"
     },
     "output_type": "display_data"
    }
   ],
   "source": [
    "# check what is the outliers looks like\n",
    "print(\"number of outlier images:\", outliers.num_images)\n",
    "print(\"number of buildings outlier images:\", outliers.class_sizes[0])\n",
    "print(\"number of crosses outlier images:\", outliers.class_sizes[1])\n",
    "outliers.plot_image(20)"
   ]
  },
  {
   "cell_type": "code",
   "execution_count": null,
   "metadata": {},
   "outputs": [],
   "source": []
  }
 ],
 "metadata": {
  "kernelspec": {
   "display_name": "Python 3",
   "language": "python",
   "name": "python3"
  },
  "language_info": {
   "codemirror_mode": {
    "name": "ipython",
    "version": 3
   },
   "file_extension": ".py",
   "mimetype": "text/x-python",
   "name": "python",
   "nbconvert_exporter": "python",
   "pygments_lexer": "ipython3",
   "version": "3.7.3"
  }
 },
 "nbformat": 4,
 "nbformat_minor": 2
}
